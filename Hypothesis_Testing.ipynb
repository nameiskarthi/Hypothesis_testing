{
 "cells": [
  {
   "cell_type": "markdown",
   "id": "b3b1a591",
   "metadata": {},
   "source": [
    "# Chisquare Test"
   ]
  },
  {
   "cell_type": "markdown",
   "id": "9beb2f22",
   "metadata": {},
   "source": [
    "## Hypotheses\n",
    "\n",
    "Null Hypothesis(H0): There is no significant association between the type of device purchased (Smart Thermostat or Smart Light) and the customer's satisfaction level. This implies that satisfaction is independent of the device type.\n",
    "\n",
    "Alternative Hypothesis(Ha): There is a significant association between the type of device purchased and the customer's satisfaction level. This implies that satisfaction depends on the device type.\n",
    "\n"
   ]
  },
  {
   "cell_type": "code",
   "execution_count": 1,
   "id": "f3f20fb5",
   "metadata": {},
   "outputs": [],
   "source": [
    "import numpy as np\n",
    "from scipy.stats import chi2,chi2_contingency"
   ]
  },
  {
   "cell_type": "code",
   "execution_count": 2,
   "id": "8eb37d91",
   "metadata": {},
   "outputs": [],
   "source": [
    "data=np.array([[50,70],[80,100],[60,90],[30,50],[50,20]])"
   ]
  },
  {
   "cell_type": "code",
   "execution_count": 3,
   "id": "3aeab64a",
   "metadata": {},
   "outputs": [
    {
     "name": "stdout",
     "output_type": "stream",
     "text": [
      "23.649190315856984\n",
      "9.390467988105083e-05\n",
      "4\n"
     ]
    }
   ],
   "source": [
    "# Perform the Chi-Square test for independence\n",
    "chi2_statistic, p_value, dof, expected = chi2_contingency(data)\n",
    "print(chi2_statistic)\n",
    "print(p_value)\n",
    "print(dof)"
   ]
  },
  {
   "cell_type": "code",
   "execution_count": 4,
   "id": "1dc01597",
   "metadata": {},
   "outputs": [
    {
     "data": {
      "text/plain": [
       "9.487729036781154"
      ]
     },
     "execution_count": 4,
     "metadata": {},
     "output_type": "execute_result"
    }
   ],
   "source": [
    "# Determine critical value for 0.05 significance level with the calculated degrees of freedom\n",
    "alpha = 0.05\n",
    "dof = 4\n",
    "critical_value = chi2.ppf(1 - alpha, dof)\n",
    "critical_value"
   ]
  },
  {
   "cell_type": "markdown",
   "id": "fd95f543",
   "metadata": {},
   "source": [
    "##### Decision: Since the critical value is greater than chi2_statistic(5.638<9.487), failed to reject the null hypothesis"
   ]
  },
  {
   "cell_type": "code",
   "execution_count": null,
   "id": "e0fae97b",
   "metadata": {},
   "outputs": [],
   "source": []
  },
  {
   "cell_type": "markdown",
   "id": "13e63a0f",
   "metadata": {},
   "source": [
    "# Hypothesis Testing"
   ]
  },
  {
   "cell_type": "markdown",
   "id": "38f5847a",
   "metadata": {},
   "source": [
    "### Hypotheses"
   ]
  },
  {
   "cell_type": "markdown",
   "id": "fa35a8e3",
   "metadata": {},
   "source": [
    "Null Hypothesis(H0): The mean weekly operating cost is equal to the theoretical cost model prediction.\n",
    "    H0: mu=1000+5(600)=4000\n",
    "\n",
    "Alternative Hypothesis(Ha): The mean weekly operating cost is greater than the theoretical cost model prediction.\n",
    "    Ha: mu>4000"
   ]
  },
  {
   "cell_type": "code",
   "execution_count": 5,
   "id": "94aa8eed",
   "metadata": {},
   "outputs": [],
   "source": [
    "import numpy as np\n",
    "from scipy.stats import norm"
   ]
  },
  {
   "cell_type": "code",
   "execution_count": 6,
   "id": "df9e427f",
   "metadata": {},
   "outputs": [],
   "source": [
    "# Given Data\n",
    "x_bar = 3050  # Sample mean weekly cost\n",
    "mu = 4000     # Theoretical mean weekly cost\n",
    "sigma = 5*25  # Standard deviation\n",
    "n = 25         # Sample size(25 restaurants)"
   ]
  },
  {
   "cell_type": "code",
   "execution_count": 7,
   "id": "bd603ffa",
   "metadata": {},
   "outputs": [
    {
     "data": {
      "text/plain": [
       "-38.0"
      ]
     },
     "execution_count": 7,
     "metadata": {},
     "output_type": "execute_result"
    }
   ],
   "source": [
    "# Calculate the test statistic (t)\n",
    "t_statistic = (x_bar-mu) / (sigma/np.sqrt(n))\n",
    "t_statistic"
   ]
  },
  {
   "cell_type": "code",
   "execution_count": 8,
   "id": "3f4c11ac",
   "metadata": {},
   "outputs": [
    {
     "data": {
      "text/plain": [
       "1.6448536269514722"
      ]
     },
     "execution_count": 8,
     "metadata": {},
     "output_type": "execute_result"
    }
   ],
   "source": [
    "# Determine the critical value for alpha = 0.05 (one-tailed test)\n",
    "alpha = 0.05\n",
    "z_critical = norm.ppf(1-alpha)\n",
    "z_critical"
   ]
  },
  {
   "cell_type": "code",
   "execution_count": 9,
   "id": "1b1adbdd",
   "metadata": {},
   "outputs": [
    {
     "data": {
      "text/plain": [
       "(-38.0, 1.6448536269514722)"
      ]
     },
     "execution_count": 9,
     "metadata": {},
     "output_type": "execute_result"
    }
   ],
   "source": [
    "t_statistic, z_critical"
   ]
  },
  {
   "cell_type": "markdown",
   "id": "d07b0a87",
   "metadata": {},
   "source": [
    "#### Decision: Since the t_statistic is less than Z_critical value(-38<1.645), Failed to reject the Null Hypothesis"
   ]
  },
  {
   "cell_type": "markdown",
   "id": "38c9624e",
   "metadata": {},
   "source": [
    "#### Conclusion"
   ]
  },
  {
   "cell_type": "markdown",
   "id": "e118bc79",
   "metadata": {},
   "source": [
    "Based on the calculated test statistic and the comparison with the critical value, there is not enough evidence to support the restaurant owners' claim that the weekly operating costs are higher than the model suggests"
   ]
  },
  {
   "cell_type": "code",
   "execution_count": null,
   "id": "e4a6d49b",
   "metadata": {},
   "outputs": [],
   "source": []
  }
 ],
 "metadata": {
  "kernelspec": {
   "display_name": "Python 3 (ipykernel)",
   "language": "python",
   "name": "python3"
  },
  "language_info": {
   "codemirror_mode": {
    "name": "ipython",
    "version": 3
   },
   "file_extension": ".py",
   "mimetype": "text/x-python",
   "name": "python",
   "nbconvert_exporter": "python",
   "pygments_lexer": "ipython3",
   "version": "3.11.7"
  }
 },
 "nbformat": 4,
 "nbformat_minor": 5
}
